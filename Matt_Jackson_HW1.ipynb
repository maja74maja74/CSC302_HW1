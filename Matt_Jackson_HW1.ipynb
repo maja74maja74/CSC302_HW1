{
  "nbformat": 4,
  "nbformat_minor": 0,
  "metadata": {
    "colab": {
      "provenance": [],
      "toc_visible": true,
      "authorship_tag": "ABX9TyPA5d/OhZiS4pyFMlAJ0GdQ",
      "include_colab_link": true
    },
    "kernelspec": {
      "name": "python3",
      "display_name": "Python 3"
    },
    "language_info": {
      "name": "python"
    }
  },
  "cells": [
    {
      "cell_type": "markdown",
      "metadata": {
        "id": "view-in-github",
        "colab_type": "text"
      },
      "source": [
        "<a href=\"https://colab.research.google.com/github/maja74maja74/CSC302_HW1/blob/main/Matt_Jackson_HW1.ipynb\" target=\"_parent\"><img src=\"https://colab.research.google.com/assets/colab-badge.svg\" alt=\"Open In Colab\"/></a>"
      ]
    },
    {
      "cell_type": "code",
      "source": [],
      "metadata": {
        "id": "PlZx_CG4lSAM"
      },
      "execution_count": null,
      "outputs": []
    },
    {
      "cell_type": "code",
      "execution_count": 2,
      "metadata": {
        "colab": {
          "base_uri": "https://localhost:8080/"
        },
        "id": "izYW62Jij9zo",
        "outputId": "a4d89ae6-cc6f-4aa4-dfcd-e2c883da782c"
      },
      "outputs": [
        {
          "output_type": "stream",
          "name": "stdout",
          "text": [
            "Mounted at /content/drive\n"
          ]
        }
      ],
      "source": [
        "from google.colab import drive\n",
        "drive.mount ('/content/drive')"
      ]
    },
    {
      "cell_type": "code",
      "source": [
        "import csv\n",
        "\n",
        "with open(\"/content/drive/MyDrive/DATA/olympic_medals.csv\") as f:\n",
        "    reader = csv.DictReader(f)\n",
        "    olympics_data = list(reader)"
      ],
      "metadata": {
        "id": "gngKzB5xnSS0"
      },
      "execution_count": 5,
      "outputs": []
    },
    {
      "cell_type": "code",
      "source": [
        "import pandas as pd\n"
      ],
      "metadata": {
        "id": "uWuQDuXtmsXE"
      },
      "execution_count": 4,
      "outputs": []
    },
    {
      "cell_type": "code",
      "source": [
        "df = pd.DataFrame(olympics_data)\n"
      ],
      "metadata": {
        "id": "pwjmUxZ0nXzq"
      },
      "execution_count": 7,
      "outputs": []
    },
    {
      "cell_type": "code",
      "source": [
        "df.info\n",
        "#2a answer 2394 rows, 8 columns\n"
      ],
      "metadata": {
        "colab": {
          "base_uri": "https://localhost:8080/"
        },
        "id": "ObTatof6pFYO",
        "outputId": "2c4a50eb-7305-4fc5-e2db-51bdde06ce75"
      },
      "execution_count": 11,
      "outputs": [
        {
          "output_type": "execute_result",
          "data": {
            "text/plain": [
              "<bound method DataFrame.info of      Gender              Event Location  Year Medal                   Name  \\\n",
              "0         M         10000M Men      Rio  2016     G          Mohamed FARAH   \n",
              "1         M         10000M Men      Rio  2016     S  Paul Kipngetich TANUI   \n",
              "2         M         10000M Men      Rio  2016     B           Tamirat TOLA   \n",
              "3         M         10000M Men  Beijing  2008     G        Kenenisa BEKELE   \n",
              "4         M         10000M Men  Beijing  2008     S         Sileshi SIHINE   \n",
              "...     ...                ...      ...   ...   ...                    ...   \n",
              "2389      W  Triple Jump Women   Athens  2004     S      Hrysopiyi DEVETZI   \n",
              "2390      W  Triple Jump Women   Athens  2004     B       Tatyana LEBEDEVA   \n",
              "2391      W  Triple Jump Women  Atlanta  1996     G         Inessa KRAVETS   \n",
              "2392      W  Triple Jump Women  Atlanta  1996     S        Inna LASOVSKAYA   \n",
              "2393      W  Triple Jump Women  Atlanta  1996     B       Sarka KASPARKOVA   \n",
              "\n",
              "     Nationality    Result  \n",
              "0            GBR  25:05.17  \n",
              "1            KEN  27:05.64  \n",
              "2            ETH  27:06.26  \n",
              "3            ETH  27:01.17  \n",
              "4            ETH  27:02.77  \n",
              "...          ...       ...  \n",
              "2389         GRE     15.25  \n",
              "2390         RUS     15.14  \n",
              "2391         UKR     15.33  \n",
              "2392         RUS     14.98  \n",
              "2393         CZE     14.98  \n",
              "\n",
              "[2394 rows x 8 columns]>"
            ]
          },
          "metadata": {},
          "execution_count": 11
        }
      ]
    },
    {
      "cell_type": "code",
      "source": [
        "df.dtypes\n",
        "#2b Answer "
      ],
      "metadata": {
        "colab": {
          "base_uri": "https://localhost:8080/"
        },
        "id": "XwZgO6sVpJQX",
        "outputId": "357a59b6-24c4-4763-9307-e41336ee1764"
      },
      "execution_count": 13,
      "outputs": [
        {
          "output_type": "execute_result",
          "data": {
            "text/plain": [
              "Gender         object\n",
              "Event          object\n",
              "Location       object\n",
              "Year           object\n",
              "Medal          object\n",
              "Name           object\n",
              "Nationality    object\n",
              "Result         object\n",
              "dtype: object"
            ]
          },
          "metadata": {},
          "execution_count": 13
        }
      ]
    },
    {
      "cell_type": "code",
      "source": [
        "len(df['Location'].unique())\n",
        "#2c answer"
      ],
      "metadata": {
        "colab": {
          "base_uri": "https://localhost:8080/"
        },
        "id": "QBWiStPzqyXS",
        "outputId": "d1b555af-0150-4737-eb43-4804a8352415"
      },
      "execution_count": 16,
      "outputs": [
        {
          "output_type": "execute_result",
          "data": {
            "text/plain": [
              "23"
            ]
          },
          "metadata": {},
          "execution_count": 16
        }
      ]
    },
    {
      "cell_type": "code",
      "source": [
        "df[(df[\"Medal\"] == \"G, S, B\") + (df[\"Nationality\"] == \"USA\")].count\n",
        "#2d answer 638 medals"
      ],
      "metadata": {
        "colab": {
          "base_uri": "https://localhost:8080/"
        },
        "id": "P_xU-4AbtzKk",
        "outputId": "e4b77695-f14a-4b03-c7b8-fe406c6da153"
      },
      "execution_count": 23,
      "outputs": [
        {
          "output_type": "execute_result",
          "data": {
            "text/plain": [
              "<bound method DataFrame.count of      Gender             Event   Location  Year Medal             Name  \\\n",
              "37        M        10000M Men     London  2012     S       Galen RUPP   \n",
              "51        M        10000M Men      Tokyo  1964     G      Billy MILLS   \n",
              "67        M        10000M Men  Stockholm  1912     S   Lewis TEWANIMA   \n",
              "70        M          100M Men        Rio  2016     S    Justin GATLIN   \n",
              "74        M          100M Men    Beijing  2008     B       Walter DIX   \n",
              "...     ...               ...        ...   ...   ...              ...   \n",
              "2326      W  Pole Vault Women    Beijing  2008     S    Jennifer SUHR   \n",
              "2328      W  Pole Vault Women     Sydney  2000     G    Stacy DRAGILA   \n",
              "2331      W  Pole Vault Women     London  2012     G    Jennifer SUHR   \n",
              "2337      W    Shot Put Women        Rio  2016     G  Michelle CARTER   \n",
              "2358      W    Shot Put Women       Rome  1960     B    Earlene BROWN   \n",
              "\n",
              "     Nationality    Result  \n",
              "37           USA  27:30.90  \n",
              "51           USA   28:24.4  \n",
              "67           USA   32:06.6  \n",
              "70           USA      9.89  \n",
              "74           USA      9.91  \n",
              "...          ...       ...  \n",
              "2326         USA       4.8  \n",
              "2328         USA       4.6  \n",
              "2331         USA      4.75  \n",
              "2337         USA     20.63  \n",
              "2358         USA     16.42  \n",
              "\n",
              "[638 rows x 8 columns]>"
            ]
          },
          "metadata": {},
          "execution_count": 23
        }
      ]
    },
    {
      "cell_type": "code",
      "source": [
        "df.groupby(['Nationality','Medal']).count()\n",
        "#2e Answer"
      ],
      "metadata": {
        "colab": {
          "base_uri": "https://localhost:8080/",
          "height": 455
        },
        "id": "lwb2NVjmyVtl",
        "outputId": "577ea2d8-9cfb-4a76-dbd2-ef68015e7a81"
      },
      "execution_count": 28,
      "outputs": [
        {
          "output_type": "execute_result",
          "data": {
            "text/plain": [
              "                   Gender  Event  Location  Year  Name  Result\n",
              "Nationality Medal                                             \n",
              "ALG         B           2      2         2     2     2       2\n",
              "            G           4      4         4     4     4       4\n",
              "            S           3      3         3     3     3       3\n",
              "ARG         G           2      2         2     2     2       2\n",
              "            S           2      2         2     2     2       2\n",
              "...                   ...    ...       ...   ...   ...     ...\n",
              "USA         S         206    206       206   206   206     206\n",
              "VEN         B           1      1         1     1     1       1\n",
              "            S           1      1         1     1     1       1\n",
              "YUG         S           1      1         1     1     1       1\n",
              "ZAM         S           1      1         1     1     1       1\n",
              "\n",
              "[218 rows x 6 columns]"
            ],
            "text/html": [
              "\n",
              "  <div id=\"df-909b8eb8-7274-45cc-8e5d-c8bdee9db9b8\">\n",
              "    <div class=\"colab-df-container\">\n",
              "      <div>\n",
              "<style scoped>\n",
              "    .dataframe tbody tr th:only-of-type {\n",
              "        vertical-align: middle;\n",
              "    }\n",
              "\n",
              "    .dataframe tbody tr th {\n",
              "        vertical-align: top;\n",
              "    }\n",
              "\n",
              "    .dataframe thead th {\n",
              "        text-align: right;\n",
              "    }\n",
              "</style>\n",
              "<table border=\"1\" class=\"dataframe\">\n",
              "  <thead>\n",
              "    <tr style=\"text-align: right;\">\n",
              "      <th></th>\n",
              "      <th></th>\n",
              "      <th>Gender</th>\n",
              "      <th>Event</th>\n",
              "      <th>Location</th>\n",
              "      <th>Year</th>\n",
              "      <th>Name</th>\n",
              "      <th>Result</th>\n",
              "    </tr>\n",
              "    <tr>\n",
              "      <th>Nationality</th>\n",
              "      <th>Medal</th>\n",
              "      <th></th>\n",
              "      <th></th>\n",
              "      <th></th>\n",
              "      <th></th>\n",
              "      <th></th>\n",
              "      <th></th>\n",
              "    </tr>\n",
              "  </thead>\n",
              "  <tbody>\n",
              "    <tr>\n",
              "      <th rowspan=\"3\" valign=\"top\">ALG</th>\n",
              "      <th>B</th>\n",
              "      <td>2</td>\n",
              "      <td>2</td>\n",
              "      <td>2</td>\n",
              "      <td>2</td>\n",
              "      <td>2</td>\n",
              "      <td>2</td>\n",
              "    </tr>\n",
              "    <tr>\n",
              "      <th>G</th>\n",
              "      <td>4</td>\n",
              "      <td>4</td>\n",
              "      <td>4</td>\n",
              "      <td>4</td>\n",
              "      <td>4</td>\n",
              "      <td>4</td>\n",
              "    </tr>\n",
              "    <tr>\n",
              "      <th>S</th>\n",
              "      <td>3</td>\n",
              "      <td>3</td>\n",
              "      <td>3</td>\n",
              "      <td>3</td>\n",
              "      <td>3</td>\n",
              "      <td>3</td>\n",
              "    </tr>\n",
              "    <tr>\n",
              "      <th rowspan=\"2\" valign=\"top\">ARG</th>\n",
              "      <th>G</th>\n",
              "      <td>2</td>\n",
              "      <td>2</td>\n",
              "      <td>2</td>\n",
              "      <td>2</td>\n",
              "      <td>2</td>\n",
              "      <td>2</td>\n",
              "    </tr>\n",
              "    <tr>\n",
              "      <th>S</th>\n",
              "      <td>2</td>\n",
              "      <td>2</td>\n",
              "      <td>2</td>\n",
              "      <td>2</td>\n",
              "      <td>2</td>\n",
              "      <td>2</td>\n",
              "    </tr>\n",
              "    <tr>\n",
              "      <th>...</th>\n",
              "      <th>...</th>\n",
              "      <td>...</td>\n",
              "      <td>...</td>\n",
              "      <td>...</td>\n",
              "      <td>...</td>\n",
              "      <td>...</td>\n",
              "      <td>...</td>\n",
              "    </tr>\n",
              "    <tr>\n",
              "      <th>USA</th>\n",
              "      <th>S</th>\n",
              "      <td>206</td>\n",
              "      <td>206</td>\n",
              "      <td>206</td>\n",
              "      <td>206</td>\n",
              "      <td>206</td>\n",
              "      <td>206</td>\n",
              "    </tr>\n",
              "    <tr>\n",
              "      <th rowspan=\"2\" valign=\"top\">VEN</th>\n",
              "      <th>B</th>\n",
              "      <td>1</td>\n",
              "      <td>1</td>\n",
              "      <td>1</td>\n",
              "      <td>1</td>\n",
              "      <td>1</td>\n",
              "      <td>1</td>\n",
              "    </tr>\n",
              "    <tr>\n",
              "      <th>S</th>\n",
              "      <td>1</td>\n",
              "      <td>1</td>\n",
              "      <td>1</td>\n",
              "      <td>1</td>\n",
              "      <td>1</td>\n",
              "      <td>1</td>\n",
              "    </tr>\n",
              "    <tr>\n",
              "      <th>YUG</th>\n",
              "      <th>S</th>\n",
              "      <td>1</td>\n",
              "      <td>1</td>\n",
              "      <td>1</td>\n",
              "      <td>1</td>\n",
              "      <td>1</td>\n",
              "      <td>1</td>\n",
              "    </tr>\n",
              "    <tr>\n",
              "      <th>ZAM</th>\n",
              "      <th>S</th>\n",
              "      <td>1</td>\n",
              "      <td>1</td>\n",
              "      <td>1</td>\n",
              "      <td>1</td>\n",
              "      <td>1</td>\n",
              "      <td>1</td>\n",
              "    </tr>\n",
              "  </tbody>\n",
              "</table>\n",
              "<p>218 rows × 6 columns</p>\n",
              "</div>\n",
              "      <button class=\"colab-df-convert\" onclick=\"convertToInteractive('df-909b8eb8-7274-45cc-8e5d-c8bdee9db9b8')\"\n",
              "              title=\"Convert this dataframe to an interactive table.\"\n",
              "              style=\"display:none;\">\n",
              "        \n",
              "  <svg xmlns=\"http://www.w3.org/2000/svg\" height=\"24px\"viewBox=\"0 0 24 24\"\n",
              "       width=\"24px\">\n",
              "    <path d=\"M0 0h24v24H0V0z\" fill=\"none\"/>\n",
              "    <path d=\"M18.56 5.44l.94 2.06.94-2.06 2.06-.94-2.06-.94-.94-2.06-.94 2.06-2.06.94zm-11 1L8.5 8.5l.94-2.06 2.06-.94-2.06-.94L8.5 2.5l-.94 2.06-2.06.94zm10 10l.94 2.06.94-2.06 2.06-.94-2.06-.94-.94-2.06-.94 2.06-2.06.94z\"/><path d=\"M17.41 7.96l-1.37-1.37c-.4-.4-.92-.59-1.43-.59-.52 0-1.04.2-1.43.59L10.3 9.45l-7.72 7.72c-.78.78-.78 2.05 0 2.83L4 21.41c.39.39.9.59 1.41.59.51 0 1.02-.2 1.41-.59l7.78-7.78 2.81-2.81c.8-.78.8-2.07 0-2.86zM5.41 20L4 18.59l7.72-7.72 1.47 1.35L5.41 20z\"/>\n",
              "  </svg>\n",
              "      </button>\n",
              "      \n",
              "  <style>\n",
              "    .colab-df-container {\n",
              "      display:flex;\n",
              "      flex-wrap:wrap;\n",
              "      gap: 12px;\n",
              "    }\n",
              "\n",
              "    .colab-df-convert {\n",
              "      background-color: #E8F0FE;\n",
              "      border: none;\n",
              "      border-radius: 50%;\n",
              "      cursor: pointer;\n",
              "      display: none;\n",
              "      fill: #1967D2;\n",
              "      height: 32px;\n",
              "      padding: 0 0 0 0;\n",
              "      width: 32px;\n",
              "    }\n",
              "\n",
              "    .colab-df-convert:hover {\n",
              "      background-color: #E2EBFA;\n",
              "      box-shadow: 0px 1px 2px rgba(60, 64, 67, 0.3), 0px 1px 3px 1px rgba(60, 64, 67, 0.15);\n",
              "      fill: #174EA6;\n",
              "    }\n",
              "\n",
              "    [theme=dark] .colab-df-convert {\n",
              "      background-color: #3B4455;\n",
              "      fill: #D2E3FC;\n",
              "    }\n",
              "\n",
              "    [theme=dark] .colab-df-convert:hover {\n",
              "      background-color: #434B5C;\n",
              "      box-shadow: 0px 1px 3px 1px rgba(0, 0, 0, 0.15);\n",
              "      filter: drop-shadow(0px 1px 2px rgba(0, 0, 0, 0.3));\n",
              "      fill: #FFFFFF;\n",
              "    }\n",
              "  </style>\n",
              "\n",
              "      <script>\n",
              "        const buttonEl =\n",
              "          document.querySelector('#df-909b8eb8-7274-45cc-8e5d-c8bdee9db9b8 button.colab-df-convert');\n",
              "        buttonEl.style.display =\n",
              "          google.colab.kernel.accessAllowed ? 'block' : 'none';\n",
              "\n",
              "        async function convertToInteractive(key) {\n",
              "          const element = document.querySelector('#df-909b8eb8-7274-45cc-8e5d-c8bdee9db9b8');\n",
              "          const dataTable =\n",
              "            await google.colab.kernel.invokeFunction('convertToInteractive',\n",
              "                                                     [key], {});\n",
              "          if (!dataTable) return;\n",
              "\n",
              "          const docLinkHtml = 'Like what you see? Visit the ' +\n",
              "            '<a target=\"_blank\" href=https://colab.research.google.com/notebooks/data_table.ipynb>data table notebook</a>'\n",
              "            + ' to learn more about interactive tables.';\n",
              "          element.innerHTML = '';\n",
              "          dataTable['output_type'] = 'display_data';\n",
              "          await google.colab.output.renderOutput(dataTable, element);\n",
              "          const docLink = document.createElement('div');\n",
              "          docLink.innerHTML = docLinkHtml;\n",
              "          element.appendChild(docLink);\n",
              "        }\n",
              "      </script>\n",
              "    </div>\n",
              "  </div>\n",
              "  "
            ]
          },
          "metadata": {},
          "execution_count": 28
        }
      ]
    }
  ]
}